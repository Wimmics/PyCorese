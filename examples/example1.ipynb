{
 "cells": [
  {
   "cell_type": "code",
   "execution_count": 8,
   "metadata": {},
   "outputs": [],
   "source": [
    "import os \n",
    "data_path = os.path.abspath('data\\\\beatles.rdf')\n"
   ]
  },
  {
   "cell_type": "code",
   "execution_count": 6,
   "metadata": {},
   "outputs": [
    {
     "name": "stdout",
     "output_type": "stream",
     "text": [
      "'PyCorese' is installed\n"
     ]
    }
   ],
   "source": [
    "import importlib.util\n",
    "\n",
    "package_name = 'PyCorese'\n",
    "useLocal = True # used for development\n",
    "\n",
    "if useLocal:\n",
    "    import sys\n",
    "    sys.path.insert(0, '..\\\\src')\n",
    "\n",
    "if importlib.util.find_spec(package_name):\n",
    "    print(f\"'{package_name}' is installed\")\n",
    "else:\n",
    "    print(f\"'{package_name}' is not installed\")\n",
    "    !pip install install git+https://github.com/annabobasheva/PyCorese.git    "
   ]
  },
  {
   "cell_type": "markdown",
   "metadata": {},
   "source": [
    "## JPype\n",
    "\n",
    "Demonstrate loading and querying data with CoreseAPI connected through `JPype`."
   ]
  },
  {
   "cell_type": "code",
   "execution_count": 3,
   "metadata": {},
   "outputs": [
    {
     "name": "stderr",
     "output_type": "stream",
     "text": [
      "2024-09-05 11:52:14,000 - INFO - JPype: JVM is already running\n",
      "2024-09-05 11:52:14,002 - INFO - JPype: CORESE is loaded\n"
     ]
    },
    {
     "name": "stdout",
     "output_type": "stream",
     "text": [
      "s,p,o\n",
      "http://example.com/Please_Please_Me,http://example.com/artist,http://example.com/The_Beatles\n",
      "http://example.com/McCartney,http://example.com/artist,http://example.com/Paul_McCartney\n",
      "http://example.com/Imagine,http://example.com/artist,http://example.com/John_Lennon\n",
      "http://example.com/Please_Please_Me,http://example.com/date,1963-03-22\n",
      "http://example.com/McCartney,http://example.com/date,1970-04-17\n",
      "\n"
     ]
    }
   ],
   "source": [
    "#%%timeit -n 1 -r 1\n",
    "from  PyCorese.api import CoreseAPI\n",
    "\n",
    "\n",
    "corese = CoreseAPI(java_bridge='jpype')\n",
    "\n",
    "corese.loadCorese()\n",
    "graph = corese.loadRDF(data_path) \n",
    "results = corese.query(graph)\n",
    "\n",
    "print(results)"
   ]
  },
  {
   "cell_type": "markdown",
   "metadata": {},
   "source": [
    "Build/query a graph with `corese-core` classes exposed through `JPype`."
   ]
  },
  {
   "cell_type": "code",
   "execution_count": 4,
   "metadata": {},
   "outputs": [
    {
     "name": "stdout",
     "output_type": "stream",
     "text": [
      "01 ?s = <http://example.org/EdithPiaf>; ?p = rdf:type; ?o = <http://example.org/Singer>; \n",
      "\n"
     ]
    }
   ],
   "source": [
    "jpype_graph = corese.Graph()\n",
    "\n",
    "# NameSpace\n",
    "ex = \"http://example.org/\"\n",
    "\n",
    "# Create and add statement: Edith Piaf is an Singer\n",
    "edith_Piaf_IRI = jpype_graph.addResource(ex + \"EdithPiaf\")\n",
    "rdf_Type_Property = jpype_graph.addProperty(corese.RDF.TYPE)\n",
    "singer_IRI = jpype_graph.addResource(ex + \"Singer\")\n",
    "\n",
    "jpype_graph.addEdge(edith_Piaf_IRI, rdf_Type_Property, singer_IRI)\n",
    "\n",
    "query = \"select ?s ?p ?o where {?s ?p ?o}\"\n",
    "\n",
    "exec = corese.QueryProcess.create(jpype_graph)\n",
    "\n",
    "results = exec.query(query)\n",
    "\n",
    "print(results)"
   ]
  },
  {
   "cell_type": "markdown",
   "metadata": {},
   "source": [
    "## Py4J\n",
    "\n",
    "Demonstrate loading and querying data with CoreseAPI connected through `Py4J`."
   ]
  },
  {
   "cell_type": "code",
   "execution_count": 9,
   "metadata": {},
   "outputs": [
    {
     "name": "stderr",
     "output_type": "stream",
     "text": [
      "2024-09-05 16:20:24,719 - INFO - Py4J: Loading CORESE...\n",
      "2024-09-05 16:20:24,962 - INFO - Py4J: CORESE is loaded\n"
     ]
    },
    {
     "name": "stdout",
     "output_type": "stream",
     "text": [
      "s,p,o\n",
      "http://example.com/Please_Please_Me,http://example.com/artist,http://example.com/The_Beatles\n",
      "http://example.com/McCartney,http://example.com/artist,http://example.com/Paul_McCartney\n",
      "http://example.com/Imagine,http://example.com/artist,http://example.com/John_Lennon\n",
      "http://example.com/Please_Please_Me,http://example.com/date,1963-03-22\n",
      "http://example.com/McCartney,http://example.com/date,1970-04-17\n",
      "\n"
     ]
    }
   ],
   "source": [
    "#%%timeit -n 1 -r 1\n",
    "from  PyCorese.api import CoreseAPI\n",
    "\n",
    "if 'corese' in locals():\n",
    "    del corese\n",
    "\n",
    "corese = CoreseAPI(java_bridge='Py4J')\n",
    "\n",
    "corese.loadCorese()\n",
    "graph = corese.loadRDF(data_path) \n",
    "results = corese.query(graph)\n",
    "\n",
    "print(results)"
   ]
  },
  {
   "cell_type": "markdown",
   "metadata": {},
   "source": [
    "Build/query a graph with `corese-core` classes exposed through `Py4J`."
   ]
  },
  {
   "cell_type": "code",
   "execution_count": 6,
   "metadata": {},
   "outputs": [
    {
     "name": "stdout",
     "output_type": "stream",
     "text": [
      "01 ?s = <http://example.org/EdithPiaf>; ?p = rdf:type; ?o = <http://example.org/Singer>; \n",
      "\n"
     ]
    }
   ],
   "source": [
    "py4j_graph = corese.Graph()\n",
    "\n",
    "# NameSpace\n",
    "ex = \"http://example.org/\"\n",
    "\n",
    "# Create and add statement: Edith Piaf is an Singer\n",
    "edith_Piaf_IRI = py4j_graph.addResource(ex + \"EdithPiaf\")\n",
    "rdf_Type_Property = py4j_graph.addProperty(corese.RDF.TYPE)\n",
    "singer_IRI = py4j_graph.addResource(ex + \"Singer\")\n",
    "\n",
    "py4j_graph.addEdge(edith_Piaf_IRI, rdf_Type_Property, singer_IRI)\n",
    "\n",
    "query = \"select ?s ?p ?o where {?s ?p ?o}\"\n",
    "\n",
    "exec = corese.QueryProcess.create(py4j_graph)\n",
    "\n",
    "results = exec.query(query)\n",
    "\n",
    "print(results)\n"
   ]
  }
 ],
 "metadata": {
  "kernelspec": {
   "display_name": "Python 3",
   "language": "python",
   "name": "python3"
  },
  "language_info": {
   "codemirror_mode": {
    "name": "ipython",
    "version": 3
   },
   "file_extension": ".py",
   "mimetype": "text/x-python",
   "name": "python",
   "nbconvert_exporter": "python",
   "pygments_lexer": "ipython3",
   "version": "3.10.14"
  }
 },
 "nbformat": 4,
 "nbformat_minor": 2
}
