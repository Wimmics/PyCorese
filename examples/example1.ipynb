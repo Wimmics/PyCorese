{
 "cells": [
  {
   "cell_type": "markdown",
   "metadata": {},
   "source": [
    "## Install PyCorese"
   ]
  },
  {
   "cell_type": "code",
   "execution_count": 1,
   "metadata": {},
   "outputs": [],
   "source": [
    "import sys\n",
    "if 'google.colab' in sys.modules:  \n",
    "  !pip install git+https://github.com/wimmics/PyCorese.git@development\n",
    "else:   \n",
    "  sys.path.append('..\\\\src')"
   ]
  },
  {
   "cell_type": "markdown",
   "metadata": {},
   "source": [
    "## "
   ]
  },
  {
   "cell_type": "code",
   "execution_count": 2,
   "metadata": {},
   "outputs": [
    {
     "name": "stdout",
     "output_type": "stream",
     "text": [
      "beatles-validator.jsonld\n",
      "beatles-validator.rdf\n",
      "beatles-validator.ttl\n",
      "beatles.rdf\n",
      "john_rdfs.ttl\n",
      "person-validator.ttl\n"
     ]
    }
   ],
   "source": [
    "import os \n",
    "if  not os.path.exists('./data/beatles.rdf'):\n",
    "    print('Downloading the data files...')\n",
    "    !mkdir -p ./data\n",
    "    !wget https://raw.githubusercontent.com/Wimmics/PyCorese/development/examples/data/beatles.rdf -O ./data/beatles.rdf\n",
    "    !wget https://raw.githubusercontent.com/Wimmics/PyCorese/development/examples/data/beatles.rdf -O ./data/beatles-validator.ttl\n",
    "\n",
    "if sys.platform == 'win32':\n",
    "    !dir /b .\\data\\*.*\n",
    "else:\n",
    "    !ls ./data"
   ]
  },
  {
   "cell_type": "markdown",
   "metadata": {},
   "source": [
    "## Py4J or JPype\n",
    "\n",
    "Demonstrate loading and querying data with CoreseAPI connected through `Py4J` or `JPype` packages."
   ]
  },
  {
   "cell_type": "markdown",
   "metadata": {},
   "source": [
    "### Connect to Corese API"
   ]
  },
  {
   "cell_type": "code",
   "execution_count": 3,
   "metadata": {},
   "outputs": [],
   "source": [
    "python_to_java_bridge = 'py4j'"
   ]
  },
  {
   "cell_type": "code",
   "execution_count": 4,
   "metadata": {},
   "outputs": [
    {
     "name": "stderr",
     "output_type": "stream",
     "text": [
      "2024-10-01 18:32:48,405 - INFO - Py4J: Loading CORESE...\n",
      "2024-10-01 18:32:51,430 - INFO - Py4J: CORESE is loaded\n"
     ]
    }
   ],
   "source": [
    "#%%timeit -n 1 -r 1\n",
    "from  PyCorese.api import CoreseAPI\n",
    "\n",
    "corese = CoreseAPI(java_bridge=python_to_java_bridge)\n",
    "corese.loadCorese()"
   ]
  },
  {
   "cell_type": "markdown",
   "metadata": {},
   "source": [
    "### High-level API"
   ]
  },
  {
   "cell_type": "markdown",
   "metadata": {},
   "source": [
    "#### Run SELECT query"
   ]
  },
  {
   "cell_type": "code",
   "execution_count": 5,
   "metadata": {},
   "outputs": [
    {
     "data": {
      "text/html": [
       "<div>\n",
       "<style scoped>\n",
       "    .dataframe tbody tr th:only-of-type {\n",
       "        vertical-align: middle;\n",
       "    }\n",
       "\n",
       "    .dataframe tbody tr th {\n",
       "        vertical-align: top;\n",
       "    }\n",
       "\n",
       "    .dataframe thead th {\n",
       "        text-align: right;\n",
       "    }\n",
       "</style>\n",
       "<table border=\"1\" class=\"dataframe\">\n",
       "  <thead>\n",
       "    <tr style=\"text-align: right;\">\n",
       "      <th></th>\n",
       "      <th>subject</th>\n",
       "      <th>p</th>\n",
       "      <th>o</th>\n",
       "    </tr>\n",
       "  </thead>\n",
       "  <tbody>\n",
       "    <tr>\n",
       "      <th>0</th>\n",
       "      <td>http://example.com/Please_Please_Me</td>\n",
       "      <td>http://example.com/artist</td>\n",
       "      <td>http://example.com/The_Beatles</td>\n",
       "    </tr>\n",
       "    <tr>\n",
       "      <th>1</th>\n",
       "      <td>http://example.com/McCartney</td>\n",
       "      <td>http://example.com/artist</td>\n",
       "      <td>http://example.com/Paul_McCartney</td>\n",
       "    </tr>\n",
       "    <tr>\n",
       "      <th>2</th>\n",
       "      <td>http://example.com/Imagine</td>\n",
       "      <td>http://example.com/artist</td>\n",
       "      <td>http://example.com/John_Lennon</td>\n",
       "    </tr>\n",
       "    <tr>\n",
       "      <th>3</th>\n",
       "      <td>http://example.com/Please_Please_Me</td>\n",
       "      <td>http://example.com/date</td>\n",
       "      <td>1963-03-22</td>\n",
       "    </tr>\n",
       "    <tr>\n",
       "      <th>4</th>\n",
       "      <td>http://example.com/McCartney</td>\n",
       "      <td>http://example.com/date</td>\n",
       "      <td>1970-04-17</td>\n",
       "    </tr>\n",
       "  </tbody>\n",
       "</table>\n",
       "</div>"
      ],
      "text/plain": [
       "                               subject                          p  \\\n",
       "0  http://example.com/Please_Please_Me  http://example.com/artist   \n",
       "1         http://example.com/McCartney  http://example.com/artist   \n",
       "2           http://example.com/Imagine  http://example.com/artist   \n",
       "3  http://example.com/Please_Please_Me    http://example.com/date   \n",
       "4         http://example.com/McCartney    http://example.com/date   \n",
       "\n",
       "                                   o  \n",
       "0     http://example.com/The_Beatles  \n",
       "1  http://example.com/Paul_McCartney  \n",
       "2     http://example.com/John_Lennon  \n",
       "3                         1963-03-22  \n",
       "4                         1970-04-17  "
      ]
     },
     "execution_count": 5,
     "metadata": {},
     "output_type": "execute_result"
    }
   ],
   "source": [
    "import os \n",
    "data_path = os.path.abspath('data\\\\beatles.rdf')\n",
    "\n",
    "query = '''\n",
    "SELECT *\n",
    "WHERE {?subject ?p ?o} LIMIT 5'''\n",
    "\n",
    "graph = corese.loadRDF(data_path) \n",
    "results = corese.sparqlSelect(graph, query=query, return_dataframe=True)\n",
    "\n",
    "results"
   ]
  },
  {
   "cell_type": "markdown",
   "metadata": {},
   "source": [
    "#### Load inference rules "
   ]
  },
  {
   "cell_type": "code",
   "execution_count": 6,
   "metadata": {},
   "outputs": [
    {
     "name": "stdout",
     "output_type": "stream",
     "text": [
      "                                     s                           type\n",
      "0  http://example.com/Please_Please_Me       http://example.com/Album\n",
      "1         http://example.com/McCartney       http://example.com/Album\n",
      "2           http://example.com/Imagine       http://example.com/Album\n",
      "3       http://example.com/The_Beatles        http://example.com/Band\n",
      "4       http://example.com/John_Lennon  http://example.com/SoloArtist\n",
      "5    http://example.com/Paul_McCartney  http://example.com/SoloArtist\n",
      "6       http://example.com/Ringo_Starr  http://example.com/SoloArtist\n",
      "7   http://example.com/George_Harrison  http://example.com/SoloArtist\n",
      "8        http://example.com/Love_Me_Do        http://example.com/Song\n",
      "Graph size:  29\n"
     ]
    }
   ],
   "source": [
    "corese.resetRuleEngine(graph)\n",
    "query = \"select * where {?s a ?type} order by ?type\"\n",
    "print(corese.sparqlSelect(graph, query=query))\n",
    "print(\"Graph size: \", graph.graphSize())\n"
   ]
  },
  {
   "cell_type": "markdown",
   "metadata": {},
   "source": [
    "Adding inference rules to the Corese engine should change the results of the query by adding new triples."
   ]
  },
  {
   "cell_type": "code",
   "execution_count": 7,
   "metadata": {},
   "outputs": [
    {
     "name": "stdout",
     "output_type": "stream",
     "text": [
      "Graph size:  33\n"
     ]
    }
   ],
   "source": [
    "corese.loadRuleEngine(graph, profile=corese.RuleEngine.Profile.RDFS)\n",
    "print(\"Graph size: \", graph.graphSize())"
   ]
  },
  {
   "cell_type": "markdown",
   "metadata": {},
   "source": [
    "Let's see what was added."
   ]
  },
  {
   "cell_type": "code",
   "execution_count": 8,
   "metadata": {},
   "outputs": [
    {
     "name": "stdout",
     "output_type": "stream",
     "text": [
      "                                      s                           type\n",
      "0   http://example.com/Please_Please_Me       http://example.com/Album\n",
      "1          http://example.com/McCartney       http://example.com/Album\n",
      "2            http://example.com/Imagine       http://example.com/Album\n",
      "3        http://example.com/The_Beatles        http://example.com/Band\n",
      "4        http://example.com/John_Lennon      http://example.com/Person\n",
      "5     http://example.com/Paul_McCartney      http://example.com/Person\n",
      "6        http://example.com/Ringo_Starr      http://example.com/Person\n",
      "7    http://example.com/George_Harrison      http://example.com/Person\n",
      "8        http://example.com/John_Lennon  http://example.com/SoloArtist\n",
      "9     http://example.com/Paul_McCartney  http://example.com/SoloArtist\n",
      "10       http://example.com/Ringo_Starr  http://example.com/SoloArtist\n",
      "11   http://example.com/George_Harrison  http://example.com/SoloArtist\n",
      "12        http://example.com/Love_Me_Do        http://example.com/Song\n",
      "Graph size:  33\n"
     ]
    }
   ],
   "source": [
    "query = \"select * where {?s a ?type} order by ?type\"\n",
    "print(corese.sparqlSelect(graph, query=query))\n",
    "print(\"Graph size: \", graph.graphSize())"
   ]
  },
  {
   "cell_type": "markdown",
   "metadata": {},
   "source": [
    "The inference was that the solo artist is also a person although it was not explicitly stated in the data."
   ]
  },
  {
   "cell_type": "markdown",
   "metadata": {},
   "source": [
    "#### Run CONSTRUCT query"
   ]
  },
  {
   "cell_type": "code",
   "execution_count": 9,
   "metadata": {},
   "outputs": [
    {
     "name": "stdout",
     "output_type": "stream",
     "text": [
      "<?xml version=\"1.0\"?>\n",
      "<rdf:RDF\n",
      "  xmlns:ex='http://example.com/'\n",
      "  xmlns:rdf='http://www.w3.org/1999/02/22-rdf-syntax-ns#'>\n",
      "\n",
      "  <ex:BandMember rdf:about='http://example.com/Ringo_Starr'>\n",
      "  </ex:BandMember>\n",
      "\n",
      "  <ex:BandMember rdf:about='http://example.com/John_Lennon'>\n",
      "  </ex:BandMember>\n",
      "\n",
      "  <ex:BandMember rdf:about='http://example.com/George_Harrison'>\n",
      "  </ex:BandMember>\n",
      "\n",
      "  <ex:BandMember rdf:about='http://example.com/Paul_McCartney'>\n",
      "  </ex:BandMember>\n",
      "\n",
      "</rdf:RDF>\n"
     ]
    }
   ],
   "source": [
    "prefixes = '@prefix ex: <http://example.com/>'\n",
    "contruct = '''CONSTRUCT {?A_Beatle a ex:BandMember }\n",
    "              WHERE { ex:The_Beatles ex:member ?A_Beatle}'''\n",
    "\n",
    "results = corese.sparqlConstruct(graph, prefixes=prefixes, query=contruct)\n",
    "\n",
    "print(results)"
   ]
  },
  {
   "cell_type": "markdown",
   "metadata": {},
   "source": [
    "By default, the CONSTRUCT query returns the RDF/XML format. For more concise format convert the results to Turtle."
   ]
  },
  {
   "cell_type": "code",
   "execution_count": 10,
   "metadata": {},
   "outputs": [
    {
     "name": "stdout",
     "output_type": "stream",
     "text": [
      "\n",
      "<http://example.com/George_Harrison> a <http://example.com/BandMember> .\n",
      "\n",
      "<http://example.com/John_Lennon> a <http://example.com/BandMember> .\n",
      "\n",
      "<http://example.com/Paul_McCartney> a <http://example.com/BandMember> .\n",
      "\n",
      "<http://example.com/Ringo_Starr> a <http://example.com/BandMember> .\n",
      "\n",
      "\n"
     ]
    }
   ],
   "source": [
    "ttl = corese.toTurtle(results)\n",
    "\n",
    "print(ttl)"
   ]
  },
  {
   "cell_type": "markdown",
   "metadata": {},
   "source": [
    "#### Run SHACL form validation"
   ]
  },
  {
   "cell_type": "markdown",
   "metadata": {},
   "source": [
    "In the example below, we will use the the SHACL shape file that validates that the *beatles* graph follows the rules:\n",
    "\n",
    "- A band has a name and at least on member who is also a Solo Artist \n",
    "- An album has one name, one date and one artist associated with it\n",
    "- A song has one name, one duration and at least writer and at least one performer associated with it\n",
    "\n",
    "The validation should fail because the *beatles* graph does not contain the required information.    "
   ]
  },
  {
   "cell_type": "code",
   "execution_count": 11,
   "metadata": {},
   "outputs": [
    {
     "name": "stdout",
     "output_type": "stream",
     "text": [
      "PREFIX sh: <http://www.w3.org/ns/shacl#>\n",
      "PREFIX xsd: <http://www.w3.org/2001/XMLSchema#>\n",
      "PREFIX ex: <http://example.com/>\n",
      "\n",
      "# Shape for Bands\n",
      "ex:BandShape a sh:NodeShape ;\n",
      "    sh:targetClass ex:Band ;\n",
      "    sh:property [\n",
      "        sh:path ex:name ;\n",
      "        sh:datatype xsd:string ;\n",
      "        sh:minCount 1 ;\n",
      "        sh:maxCount 1 ;\n",
      "    ] ;\n",
      "    sh:property [\n",
      "        sh:path ex:member ;\n",
      "        sh:class ex:SoloArtist ;\n",
      "        sh:minCount 1 ;\n",
      "    ] .\n",
      "\n",
      "# Shape for Solo Artists\n",
      "ex:SoloArtistShape a sh:NodeShape ;\n",
      "    sh:targetClass ex:SoloArtist .\n",
      "\n",
      "# Shape for Albums\n",
      "ex:AlbumShape a sh:NodeShape ;\n",
      "    sh:targetClass ex:Album ;\n",
      "    sh:property [\n",
      "        sh:path ex:name ;\n",
      "        sh:datatype xsd:string ;\n",
      "        sh:minCount 1 ;\n",
      "        sh:maxCount 1 ;\n",
      "    ] ;\n",
      "    sh:property [\n",
      "        sh:path ex:date ;\n",
      "        sh:datatype xsd:date ;\n",
      "        sh:minCount 1 ;\n",
      "        sh:maxCount 1 ;\n",
      "    ] ;\n",
      "    sh:property [\n",
      "        sh:path ex:artist ;\n",
      "        sh:nodeKind sh:IRI ;\n",
      "        sh:minCount 1 ;\n",
      "        sh:maxCount 1 ;\n",
      "    ] .\n",
      "\n",
      "# Shape for Songs\n",
      "ex:SongShape a sh:NodeShape ;\n",
      "    sh:targetClass ex:Song ;\n",
      "    sh:property [\n",
      "        sh:path ex:name ;\n",
      "        sh:datatype xsd:string ;\n",
      "        sh:minCount 1 ;\n",
      "        sh:maxCount 1 ;\n",
      "    ] ;\n",
      "    sh:property [\n",
      "        sh:path ex:length ;\n",
      "        sh:datatype xsd:integer ;\n",
      "        sh:minCount 1 ;\n",
      "        sh:maxCount 1 ;\n",
      "    ] ;\n",
      "        sh:property [\n",
      "        sh:path ex:performer ;\n",
      "        sh:nodeKind sh:IRI ;\n",
      "        sh:minCount 1 ;\n",
      "    ] ;\n",
      "    sh:property [\n",
      "        sh:path ex:writer ;\n",
      "        sh:nodeKind sh:IRI ;\n",
      "        sh:minCount 1 ;\n",
      "    ] .\n",
      "\n"
     ]
    }
   ],
   "source": [
    "data_shape_path = os.path.abspath('data\\\\beatles-validator.ttl')\n",
    "\n",
    "with open(data_shape_path, 'r') as file:\n",
    "    data_shape = file.read()\n",
    "    print(data_shape)"
   ]
  },
  {
   "cell_type": "code",
   "execution_count": 12,
   "metadata": {},
   "outputs": [
    {
     "name": "stdout",
     "output_type": "stream",
     "text": [
      "@prefix xsh: <http://www.w3.org/ns/shacl#> .\n",
      "@prefix sh: <http://www.w3.org/ns/shacl#> .\n",
      "\n",
      "<urn:uuid:32b4dbda-d42f-4906-89ab-123585ea7604> a sh:ValidationResult ;\n",
      "  sh:focusNode <http://example.com/Love_Me_Do> ;\n",
      "  sh:resultMessage \"Fail at: [sh:minCount 1 ;\\r\\n  sh:nodeKind sh:IRI ;\\r\\n  sh:path <http://example.com/performer>]\" ;\n",
      "  sh:resultPath <http://example.com/performer> ;\n",
      "  sh:resultSeverity sh:Violation ;\n",
      "  sh:sourceConstraintComponent sh:MinCountConstraintComponent ;\n",
      "  sh:sourceShape _:b7 ;\n",
      "  sh:value 0 .\n",
      "\n",
      "[a sh:ValidationReport ;\n",
      "  sh:conforms false ;\n",
      "  sh:result <urn:uuid:32b4dbda-d42f-4906-89ab-123585ea7604>] .\n",
      "\n",
      "\n"
     ]
    }
   ],
   "source": [
    "prefixes = '@prefix ex: <http://example.com/>'\n",
    "report = corese.shaclValidate(graph, shacl_shape_ttl=data_shape_path, prefixes=prefixes)\n",
    "    \n",
    "print(report)"
   ]
  },
  {
   "cell_type": "markdown",
   "metadata": {},
   "source": [
    "The SHACL validation report is verbose and can be reshaped into a DataFrame for readability. "
   ]
  },
  {
   "cell_type": "code",
   "execution_count": 13,
   "metadata": {},
   "outputs": [
    {
     "data": {
      "text/html": [
       "<div>\n",
       "<style scoped>\n",
       "    .dataframe tbody tr th:only-of-type {\n",
       "        vertical-align: middle;\n",
       "    }\n",
       "\n",
       "    .dataframe tbody tr th {\n",
       "        vertical-align: top;\n",
       "    }\n",
       "\n",
       "    .dataframe thead th {\n",
       "        text-align: right;\n",
       "    }\n",
       "</style>\n",
       "<table border=\"1\" class=\"dataframe\">\n",
       "  <thead>\n",
       "    <tr style=\"text-align: right;\">\n",
       "      <th></th>\n",
       "      <th>type</th>\n",
       "      <th>focusNode</th>\n",
       "      <th>resultMessage</th>\n",
       "      <th>resultPath</th>\n",
       "      <th>resultSeverity</th>\n",
       "      <th>sourceConstraintComponent</th>\n",
       "      <th>sourceShape</th>\n",
       "      <th>value</th>\n",
       "    </tr>\n",
       "    <tr>\n",
       "      <th>o</th>\n",
       "      <th></th>\n",
       "      <th></th>\n",
       "      <th></th>\n",
       "      <th></th>\n",
       "      <th></th>\n",
       "      <th></th>\n",
       "      <th></th>\n",
       "      <th></th>\n",
       "    </tr>\n",
       "  </thead>\n",
       "  <tbody>\n",
       "    <tr>\n",
       "      <th>urn:uuid:32b4dbda-d42f-4906-89ab-123585ea7604</th>\n",
       "      <td>http://www.w3.org/ns/shacl#ValidationResult</td>\n",
       "      <td>http://example.com/Love_Me_Do</td>\n",
       "      <td>Fail at: [sh:minCount 1 ;\r\n",
       "  sh:nodeKind sh:IR...</td>\n",
       "      <td>http://example.com/performer</td>\n",
       "      <td>http://www.w3.org/ns/shacl#Violation</td>\n",
       "      <td>http://www.w3.org/ns/shacl#MinCountConstraintC...</td>\n",
       "      <td>_:b9</td>\n",
       "      <td>0</td>\n",
       "    </tr>\n",
       "  </tbody>\n",
       "</table>\n",
       "</div>"
      ],
      "text/plain": [
       "                                                                                      type  \\\n",
       "o                                                                                            \n",
       "urn:uuid:32b4dbda-d42f-4906-89ab-123585ea7604  http://www.w3.org/ns/shacl#ValidationResult   \n",
       "\n",
       "                                                                   focusNode  \\\n",
       "o                                                                              \n",
       "urn:uuid:32b4dbda-d42f-4906-89ab-123585ea7604  http://example.com/Love_Me_Do   \n",
       "\n",
       "                                                                                   resultMessage  \\\n",
       "o                                                                                                  \n",
       "urn:uuid:32b4dbda-d42f-4906-89ab-123585ea7604  Fail at: [sh:minCount 1 ;\n",
       "  sh:nodeKind sh:IR...   \n",
       "\n",
       "                                                                 resultPath  \\\n",
       "o                                                                             \n",
       "urn:uuid:32b4dbda-d42f-4906-89ab-123585ea7604  http://example.com/performer   \n",
       "\n",
       "                                                                     resultSeverity  \\\n",
       "o                                                                                     \n",
       "urn:uuid:32b4dbda-d42f-4906-89ab-123585ea7604  http://www.w3.org/ns/shacl#Violation   \n",
       "\n",
       "                                                                       sourceConstraintComponent  \\\n",
       "o                                                                                                  \n",
       "urn:uuid:32b4dbda-d42f-4906-89ab-123585ea7604  http://www.w3.org/ns/shacl#MinCountConstraintC...   \n",
       "\n",
       "                                              sourceShape value  \n",
       "o                                                                \n",
       "urn:uuid:32b4dbda-d42f-4906-89ab-123585ea7604        _:b9     0  "
      ]
     },
     "execution_count": 13,
     "metadata": {},
     "output_type": "execute_result"
    }
   ],
   "source": [
    "report_dataframe = corese.shaclReportToDataFrame(report)\n",
    "\n",
    "report_dataframe"
   ]
  },
  {
   "cell_type": "markdown",
   "metadata": {},
   "source": [
    "The report tells us that for the song *Love Me Do* a performer is not specified."
   ]
  },
  {
   "cell_type": "markdown",
   "metadata": {},
   "source": [
    "## Low-level API"
   ]
  },
  {
   "cell_type": "markdown",
   "metadata": {},
   "source": [
    "Adding triples manually to the graph."
   ]
  },
  {
   "cell_type": "code",
   "execution_count": 20,
   "metadata": {},
   "outputs": [],
   "source": [
    "# Namespace\n",
    "ex = \"http://example.com/\"\n",
    "\n",
    "# Get the graph from either Graph or DataManager objects\n",
    "graph = graph.getGraph() \n",
    "\n",
    "# Create and add statements: Help! is an album \n",
    "new_album_IRI = graph.addResource(ex + \"Help\")\n",
    "rdf_Type_Property = graph.addProperty(corese.Namespaces.RDF + 'type')\n",
    "album_type_IRI = graph.addResource(ex + \"Album\")\n",
    "\n",
    "graph.addEdge(new_album_IRI, rdf_Type_Property, album_type_IRI)\n"
   ]
  },
  {
   "cell_type": "markdown",
   "metadata": {},
   "source": [
    "Let's see what was added."
   ]
  },
  {
   "cell_type": "code",
   "execution_count": 21,
   "metadata": {},
   "outputs": [
    {
     "name": "stdout",
     "output_type": "stream",
     "text": [
      "01 ?album = <http://example.com/Please_Please_Me>; \n",
      "02 ?album = <http://example.com/McCartney>; \n",
      "03 ?album = <http://example.com/Imagine>; \n",
      "04 ?album = <http://example.com/Help>; \n",
      "\n"
     ]
    }
   ],
   "source": [
    "\n",
    "query = f'''@prefix ex: <{ex}>\n",
    "            SELECT *  \n",
    "            where {{?album a ex:Album }}'''\n",
    "\n",
    "exec = corese.QueryProcess.create(graph)\n",
    "\n",
    "results = exec.query(query)\n",
    "\n",
    "print(results)\n"
   ]
  },
  {
   "cell_type": "markdown",
   "metadata": {},
   "source": [
    "The new triple (album *Help*) was added to the graph. "
   ]
  },
  {
   "cell_type": "markdown",
   "metadata": {},
   "source": [
    "Wer can add some more detailes for the album *Help!* and see what was added."
   ]
  },
  {
   "cell_type": "code",
   "execution_count": 22,
   "metadata": {},
   "outputs": [],
   "source": [
    "\n",
    "# Create and add statement: The name of the album is actually Help!\n",
    "name_property_IRI = graph.addProperty(ex + \"name\")\n",
    "name_literal = graph.addLiteral(\"Help!\")\n",
    "\n",
    "graph.addEdge(new_album_IRI, name_property_IRI, name_literal)\n",
    "\n",
    "# Create and add statement: The new album was released in 1965\n",
    "xsd = \"<http://www.w3.org/2001/XMLSchema#>\" \n",
    "release_property_IRI = graph.addProperty(ex + \"date\")\n",
    "release_literal = graph.addLiteral(\"1965\", xsd + 'date')\n",
    "\n",
    "graph.addEdge(new_album_IRI, release_property_IRI, release_literal)\n",
    "\n",
    "\n",
    "# Create and add statement: The Beatles is the creator of the album Help\n",
    "artist_property_IRI = graph.addProperty(ex + \"artist\")\n",
    "artist_IRI = graph.addLiteral(ex + \"The_Beatles\")\n",
    "graph.addEdge(new_album_IRI, artist_property_IRI, artist_IRI)"
   ]
  },
  {
   "cell_type": "code",
   "execution_count": 23,
   "metadata": {},
   "outputs": [
    {
     "name": "stdout",
     "output_type": "stream",
     "text": [
      "@prefix ex: <http://example.com/> .\n",
      "@prefix rdf: <http://www.w3.org/1999/02/22-rdf-syntax-ns#> .\n",
      "\n",
      "ex:Help ex:artist \"http://example.com/The_Beatles\" ;\n",
      "  ex:date \"1965\"^^<<http://www.w3.org/2001/XMLSchema#>date> ;\n",
      "  ex:name \"Help!\" ;\n",
      "  a ex:Album .\n",
      "\n",
      "\n"
     ]
    }
   ],
   "source": [
    "query = f'''@prefix ex: <{ex}>\n",
    "            CONSTRUCT {{ ?album ?p ?o }}\n",
    "            WHERE {{ \n",
    "                VALUES ?album {{ ex:Help }}\n",
    "                ?album ?p ?o}} '''\n",
    "\n",
    "exec = corese.QueryProcess.create(graph)\n",
    "\n",
    "results = exec.query(query)\n",
    "\n",
    "results_ttl = corese.ResultFormat.create(results, corese.ResultFormat.TURTLE_FORMAT)\n",
    "\n",
    "print(results_ttl)"
   ]
  }
 ],
 "metadata": {
  "kernelspec": {
   "display_name": "Python 3",
   "language": "python",
   "name": "python3"
  },
  "language_info": {
   "codemirror_mode": {
    "name": "ipython",
    "version": 3
   },
   "file_extension": ".py",
   "mimetype": "text/x-python",
   "name": "python",
   "nbconvert_exporter": "python",
   "pygments_lexer": "ipython3",
   "version": "3.10.14"
  }
 },
 "nbformat": 4,
 "nbformat_minor": 2
}
