{
  "cells": [
    {
      "cell_type": "markdown",
      "metadata": {
        "id": "view-in-github",
        "colab_type": "text"
      },
      "source": [
        "<a href=\"https://colab.research.google.com/github/Wimmics/PyCorese/blob/development/examples/example1.ipynb\" target=\"_parent\"><img src=\"https://colab.research.google.com/assets/colab-badge.svg\" alt=\"Open In Colab\"/></a>"
      ]
    },
    {
      "cell_type": "markdown",
      "metadata": {
        "id": "tZjvQGgGe64i"
      },
      "source": [
        "## Install PyCorese"
      ]
    },
    {
      "cell_type": "code",
      "execution_count": 1,
      "metadata": {
        "colab": {
          "base_uri": "https://localhost:8080/"
        },
        "collapsed": true,
        "id": "LSNHx-RBe64l",
        "outputId": "fb8ff45e-4b2f-4d8d-f7e8-dc761bca8f1d"
      },
      "outputs": [
        {
          "output_type": "stream",
          "name": "stdout",
          "text": [
            "Collecting git+https://github.com/wimmics/PyCorese.git@development\n",
            "  Cloning https://github.com/wimmics/PyCorese.git (to revision development) to /tmp/pip-req-build-bet32nu2\n",
            "  Running command git clone --filter=blob:none --quiet https://github.com/wimmics/PyCorese.git /tmp/pip-req-build-bet32nu2\n",
            "  Running command git checkout -b development --track origin/development\n",
            "  Switched to a new branch 'development'\n",
            "  Branch 'development' set up to track remote branch 'development' from 'origin'.\n",
            "  Resolved https://github.com/wimmics/PyCorese.git to commit e39e36eff1a22f12a7b31c4c9d06a124fa73fe6f\n",
            "  Installing build dependencies ... \u001b[?25l\u001b[?25hdone\n",
            "  Getting requirements to build wheel ... \u001b[?25l\u001b[?25hdone\n",
            "  Preparing metadata (pyproject.toml) ... \u001b[?25l\u001b[?25hdone\n",
            "Requirement already satisfied: py4j>=0.10.9.7 in /usr/local/lib/python3.10/dist-packages (from PyCorese==0.0.1.dev0) (0.10.9.7)\n",
            "Collecting jpype1>=1.5.0 (from PyCorese==0.0.1.dev0)\n",
            "  Downloading JPype1-1.5.0-cp310-cp310-manylinux_2_17_x86_64.manylinux2014_x86_64.whl.metadata (4.9 kB)\n",
            "Requirement already satisfied: pandas>=1.3.3 in /usr/local/lib/python3.10/dist-packages (from PyCorese==0.0.1.dev0) (2.2.2)\n",
            "Requirement already satisfied: packaging in /usr/local/lib/python3.10/dist-packages (from jpype1>=1.5.0->PyCorese==0.0.1.dev0) (24.1)\n",
            "Requirement already satisfied: numpy>=1.22.4 in /usr/local/lib/python3.10/dist-packages (from pandas>=1.3.3->PyCorese==0.0.1.dev0) (1.26.4)\n",
            "Requirement already satisfied: python-dateutil>=2.8.2 in /usr/local/lib/python3.10/dist-packages (from pandas>=1.3.3->PyCorese==0.0.1.dev0) (2.8.2)\n",
            "Requirement already satisfied: pytz>=2020.1 in /usr/local/lib/python3.10/dist-packages (from pandas>=1.3.3->PyCorese==0.0.1.dev0) (2024.2)\n",
            "Requirement already satisfied: tzdata>=2022.7 in /usr/local/lib/python3.10/dist-packages (from pandas>=1.3.3->PyCorese==0.0.1.dev0) (2024.2)\n",
            "Requirement already satisfied: six>=1.5 in /usr/local/lib/python3.10/dist-packages (from python-dateutil>=2.8.2->pandas>=1.3.3->PyCorese==0.0.1.dev0) (1.16.0)\n",
            "Downloading JPype1-1.5.0-cp310-cp310-manylinux_2_17_x86_64.manylinux2014_x86_64.whl (488 kB)\n",
            "\u001b[2K   \u001b[90m━━━━━━━━━━━━━━━━━━━━━━━━━━━━━━━━━━━━━━━━\u001b[0m \u001b[32m488.6/488.6 kB\u001b[0m \u001b[31m10.5 MB/s\u001b[0m eta \u001b[36m0:00:00\u001b[0m\n",
            "\u001b[?25hBuilding wheels for collected packages: PyCorese\n",
            "  Building wheel for PyCorese (pyproject.toml) ... \u001b[?25l\u001b[?25hdone\n",
            "  Created wheel for PyCorese: filename=PyCorese-0.0.1.dev0-py3-none-any.whl size=53438730 sha256=ada47f5dbc3fca7f4eae7f41f063f5646c6931702eafab6585948ea445a3ce22\n",
            "  Stored in directory: /tmp/pip-ephem-wheel-cache-2wit1dmt/wheels/91/d4/da/7174a231bc05148e5ab5f8784e9a05279a01610d4e3e2cbdea\n",
            "Successfully built PyCorese\n",
            "Installing collected packages: jpype1, PyCorese\n",
            "Successfully installed PyCorese-0.0.1.dev0 jpype1-1.5.0\n"
          ]
        }
      ],
      "source": [
        "import sys\n",
        "if 'google.colab' in sys.modules:\n",
        "  !pip install git+https://github.com/wimmics/PyCorese.git@development\n",
        "else:\n",
        "  sys.path.append('..\\\\src')"
      ]
    },
    {
      "cell_type": "code",
      "execution_count": 13,
      "metadata": {
        "colab": {
          "base_uri": "https://localhost:8080/"
        },
        "id": "kOvrNs-ze64n",
        "outputId": "4f09cbdc-9e62-4332-ac70-db276c6d3a07"
      },
      "outputs": [
        {
          "output_type": "stream",
          "name": "stdout",
          "text": [
            "Downloading the data files...\n",
            "--2024-10-02 13:54:13--  https://raw.githubusercontent.com/Wimmics/PyCorese/development/examples/data/beatles.rdf\n",
            "Resolving raw.githubusercontent.com (raw.githubusercontent.com)... 185.199.109.133, 185.199.111.133, 185.199.108.133, ...\n",
            "Connecting to raw.githubusercontent.com (raw.githubusercontent.com)|185.199.109.133|:443... connected.\n",
            "HTTP request sent, awaiting response... 200 OK\n",
            "Length: 2974 (2.9K) [text/plain]\n",
            "Saving to: ‘./data/beatles.rdf’\n",
            "\n",
            "./data/beatles.rdf  100%[===================>]   2.90K  --.-KB/s    in 0s      \n",
            "\n",
            "2024-10-02 13:54:13 (8.98 MB/s) - ‘./data/beatles.rdf’ saved [2974/2974]\n",
            "\n",
            "--2024-10-02 13:54:13--  https://raw.githubusercontent.com/Wimmics/PyCorese/development/examples/data/beatles-validator.ttl\n",
            "Resolving raw.githubusercontent.com (raw.githubusercontent.com)... 185.199.108.133, 185.199.109.133, 185.199.110.133, ...\n",
            "Connecting to raw.githubusercontent.com (raw.githubusercontent.com)|185.199.108.133|:443... connected.\n",
            "HTTP request sent, awaiting response... 200 OK\n",
            "Length: 1585 (1.5K) [text/plain]\n",
            "Saving to: ‘./data/beatles-validator.ttl’\n",
            "\n",
            "./data/beatles-vali 100%[===================>]   1.55K  --.-KB/s    in 0s      \n",
            "\n",
            "2024-10-02 13:54:13 (22.8 MB/s) - ‘./data/beatles-validator.ttl’ saved [1585/1585]\n",
            "\n",
            "beatles.rdf  beatles-validator.ttl\n"
          ]
        }
      ],
      "source": [
        "import os\n",
        "if  not os.path.exists('./data/beatles.rdf'):\n",
        "    print('Downloading the data files...')\n",
        "    !mkdir -p ./data\n",
        "    !wget https://raw.githubusercontent.com/Wimmics/PyCorese/development/examples/data/beatles.rdf -O ./data/beatles.rdf\n",
        "    !wget https://raw.githubusercontent.com/Wimmics/PyCorese/development/examples/data/beatles-validator.ttl -O ./data/beatles-validator.ttl\n",
        "\n",
        "if sys.platform == 'win32':\n",
        "    !dir /b .\\data\\*.*\n",
        "else:\n",
        "    !ls ./data"
      ]
    },
    {
      "cell_type": "markdown",
      "metadata": {
        "id": "BWeSL7Rve64o"
      },
      "source": [
        "## Py4J or JPype\n",
        "\n",
        "Demonstrate loading and querying data with CoreseAPI connected through `Py4J` or `JPype` packages."
      ]
    },
    {
      "cell_type": "markdown",
      "metadata": {
        "id": "PLBixnURe64o"
      },
      "source": [
        "### Connect to Corese API"
      ]
    },
    {
      "cell_type": "code",
      "execution_count": 3,
      "metadata": {
        "id": "t9Po6-aee64o"
      },
      "outputs": [],
      "source": [
        "python_to_java_bridge = 'py4j'"
      ]
    },
    {
      "cell_type": "code",
      "execution_count": 4,
      "metadata": {
        "id": "wN4TDhjXe64p"
      },
      "outputs": [],
      "source": [
        "#%%timeit -n 1 -r 1\n",
        "from  PyCorese.api import CoreseAPI\n",
        "\n",
        "corese = CoreseAPI(java_bridge=python_to_java_bridge)\n",
        "corese.loadCorese()"
      ]
    },
    {
      "cell_type": "markdown",
      "metadata": {
        "id": "7WzP7gCle64p"
      },
      "source": [
        "### High-level API"
      ]
    },
    {
      "cell_type": "markdown",
      "metadata": {
        "id": "1hHYhnIve64p"
      },
      "source": [
        "#### Run SELECT query"
      ]
    },
    {
      "cell_type": "code",
      "execution_count": 6,
      "metadata": {
        "colab": {
          "base_uri": "https://localhost:8080/",
          "height": 206
        },
        "id": "KiVYUBGhe64p",
        "outputId": "8653a2fd-bbd5-40ad-bce2-055a83b99871"
      },
      "outputs": [
        {
          "output_type": "execute_result",
          "data": {
            "text/plain": [
              "                               subject                          p  \\\n",
              "0  http://example.com/Please_Please_Me  http://example.com/artist   \n",
              "1         http://example.com/McCartney  http://example.com/artist   \n",
              "2           http://example.com/Imagine  http://example.com/artist   \n",
              "3  http://example.com/Please_Please_Me    http://example.com/date   \n",
              "4         http://example.com/McCartney    http://example.com/date   \n",
              "\n",
              "                                   o  \n",
              "0     http://example.com/The_Beatles  \n",
              "1  http://example.com/Paul_McCartney  \n",
              "2     http://example.com/John_Lennon  \n",
              "3                         1963-03-22  \n",
              "4                         1970-04-17  "
            ],
            "text/html": [
              "\n",
              "  <div id=\"df-4bab369d-c9d0-41ea-b391-be270b9497d6\" class=\"colab-df-container\">\n",
              "    <div>\n",
              "<style scoped>\n",
              "    .dataframe tbody tr th:only-of-type {\n",
              "        vertical-align: middle;\n",
              "    }\n",
              "\n",
              "    .dataframe tbody tr th {\n",
              "        vertical-align: top;\n",
              "    }\n",
              "\n",
              "    .dataframe thead th {\n",
              "        text-align: right;\n",
              "    }\n",
              "</style>\n",
              "<table border=\"1\" class=\"dataframe\">\n",
              "  <thead>\n",
              "    <tr style=\"text-align: right;\">\n",
              "      <th></th>\n",
              "      <th>subject</th>\n",
              "      <th>p</th>\n",
              "      <th>o</th>\n",
              "    </tr>\n",
              "  </thead>\n",
              "  <tbody>\n",
              "    <tr>\n",
              "      <th>0</th>\n",
              "      <td>http://example.com/Please_Please_Me</td>\n",
              "      <td>http://example.com/artist</td>\n",
              "      <td>http://example.com/The_Beatles</td>\n",
              "    </tr>\n",
              "    <tr>\n",
              "      <th>1</th>\n",
              "      <td>http://example.com/McCartney</td>\n",
              "      <td>http://example.com/artist</td>\n",
              "      <td>http://example.com/Paul_McCartney</td>\n",
              "    </tr>\n",
              "    <tr>\n",
              "      <th>2</th>\n",
              "      <td>http://example.com/Imagine</td>\n",
              "      <td>http://example.com/artist</td>\n",
              "      <td>http://example.com/John_Lennon</td>\n",
              "    </tr>\n",
              "    <tr>\n",
              "      <th>3</th>\n",
              "      <td>http://example.com/Please_Please_Me</td>\n",
              "      <td>http://example.com/date</td>\n",
              "      <td>1963-03-22</td>\n",
              "    </tr>\n",
              "    <tr>\n",
              "      <th>4</th>\n",
              "      <td>http://example.com/McCartney</td>\n",
              "      <td>http://example.com/date</td>\n",
              "      <td>1970-04-17</td>\n",
              "    </tr>\n",
              "  </tbody>\n",
              "</table>\n",
              "</div>\n",
              "    <div class=\"colab-df-buttons\">\n",
              "\n",
              "  <div class=\"colab-df-container\">\n",
              "    <button class=\"colab-df-convert\" onclick=\"convertToInteractive('df-4bab369d-c9d0-41ea-b391-be270b9497d6')\"\n",
              "            title=\"Convert this dataframe to an interactive table.\"\n",
              "            style=\"display:none;\">\n",
              "\n",
              "  <svg xmlns=\"http://www.w3.org/2000/svg\" height=\"24px\" viewBox=\"0 -960 960 960\">\n",
              "    <path d=\"M120-120v-720h720v720H120Zm60-500h600v-160H180v160Zm220 220h160v-160H400v160Zm0 220h160v-160H400v160ZM180-400h160v-160H180v160Zm440 0h160v-160H620v160ZM180-180h160v-160H180v160Zm440 0h160v-160H620v160Z\"/>\n",
              "  </svg>\n",
              "    </button>\n",
              "\n",
              "  <style>\n",
              "    .colab-df-container {\n",
              "      display:flex;\n",
              "      gap: 12px;\n",
              "    }\n",
              "\n",
              "    .colab-df-convert {\n",
              "      background-color: #E8F0FE;\n",
              "      border: none;\n",
              "      border-radius: 50%;\n",
              "      cursor: pointer;\n",
              "      display: none;\n",
              "      fill: #1967D2;\n",
              "      height: 32px;\n",
              "      padding: 0 0 0 0;\n",
              "      width: 32px;\n",
              "    }\n",
              "\n",
              "    .colab-df-convert:hover {\n",
              "      background-color: #E2EBFA;\n",
              "      box-shadow: 0px 1px 2px rgba(60, 64, 67, 0.3), 0px 1px 3px 1px rgba(60, 64, 67, 0.15);\n",
              "      fill: #174EA6;\n",
              "    }\n",
              "\n",
              "    .colab-df-buttons div {\n",
              "      margin-bottom: 4px;\n",
              "    }\n",
              "\n",
              "    [theme=dark] .colab-df-convert {\n",
              "      background-color: #3B4455;\n",
              "      fill: #D2E3FC;\n",
              "    }\n",
              "\n",
              "    [theme=dark] .colab-df-convert:hover {\n",
              "      background-color: #434B5C;\n",
              "      box-shadow: 0px 1px 3px 1px rgba(0, 0, 0, 0.15);\n",
              "      filter: drop-shadow(0px 1px 2px rgba(0, 0, 0, 0.3));\n",
              "      fill: #FFFFFF;\n",
              "    }\n",
              "  </style>\n",
              "\n",
              "    <script>\n",
              "      const buttonEl =\n",
              "        document.querySelector('#df-4bab369d-c9d0-41ea-b391-be270b9497d6 button.colab-df-convert');\n",
              "      buttonEl.style.display =\n",
              "        google.colab.kernel.accessAllowed ? 'block' : 'none';\n",
              "\n",
              "      async function convertToInteractive(key) {\n",
              "        const element = document.querySelector('#df-4bab369d-c9d0-41ea-b391-be270b9497d6');\n",
              "        const dataTable =\n",
              "          await google.colab.kernel.invokeFunction('convertToInteractive',\n",
              "                                                    [key], {});\n",
              "        if (!dataTable) return;\n",
              "\n",
              "        const docLinkHtml = 'Like what you see? Visit the ' +\n",
              "          '<a target=\"_blank\" href=https://colab.research.google.com/notebooks/data_table.ipynb>data table notebook</a>'\n",
              "          + ' to learn more about interactive tables.';\n",
              "        element.innerHTML = '';\n",
              "        dataTable['output_type'] = 'display_data';\n",
              "        await google.colab.output.renderOutput(dataTable, element);\n",
              "        const docLink = document.createElement('div');\n",
              "        docLink.innerHTML = docLinkHtml;\n",
              "        element.appendChild(docLink);\n",
              "      }\n",
              "    </script>\n",
              "  </div>\n",
              "\n",
              "\n",
              "<div id=\"df-5f540bb4-2b31-46aa-b07b-e40969c59894\">\n",
              "  <button class=\"colab-df-quickchart\" onclick=\"quickchart('df-5f540bb4-2b31-46aa-b07b-e40969c59894')\"\n",
              "            title=\"Suggest charts\"\n",
              "            style=\"display:none;\">\n",
              "\n",
              "<svg xmlns=\"http://www.w3.org/2000/svg\" height=\"24px\"viewBox=\"0 0 24 24\"\n",
              "     width=\"24px\">\n",
              "    <g>\n",
              "        <path d=\"M19 3H5c-1.1 0-2 .9-2 2v14c0 1.1.9 2 2 2h14c1.1 0 2-.9 2-2V5c0-1.1-.9-2-2-2zM9 17H7v-7h2v7zm4 0h-2V7h2v10zm4 0h-2v-4h2v4z\"/>\n",
              "    </g>\n",
              "</svg>\n",
              "  </button>\n",
              "\n",
              "<style>\n",
              "  .colab-df-quickchart {\n",
              "      --bg-color: #E8F0FE;\n",
              "      --fill-color: #1967D2;\n",
              "      --hover-bg-color: #E2EBFA;\n",
              "      --hover-fill-color: #174EA6;\n",
              "      --disabled-fill-color: #AAA;\n",
              "      --disabled-bg-color: #DDD;\n",
              "  }\n",
              "\n",
              "  [theme=dark] .colab-df-quickchart {\n",
              "      --bg-color: #3B4455;\n",
              "      --fill-color: #D2E3FC;\n",
              "      --hover-bg-color: #434B5C;\n",
              "      --hover-fill-color: #FFFFFF;\n",
              "      --disabled-bg-color: #3B4455;\n",
              "      --disabled-fill-color: #666;\n",
              "  }\n",
              "\n",
              "  .colab-df-quickchart {\n",
              "    background-color: var(--bg-color);\n",
              "    border: none;\n",
              "    border-radius: 50%;\n",
              "    cursor: pointer;\n",
              "    display: none;\n",
              "    fill: var(--fill-color);\n",
              "    height: 32px;\n",
              "    padding: 0;\n",
              "    width: 32px;\n",
              "  }\n",
              "\n",
              "  .colab-df-quickchart:hover {\n",
              "    background-color: var(--hover-bg-color);\n",
              "    box-shadow: 0 1px 2px rgba(60, 64, 67, 0.3), 0 1px 3px 1px rgba(60, 64, 67, 0.15);\n",
              "    fill: var(--button-hover-fill-color);\n",
              "  }\n",
              "\n",
              "  .colab-df-quickchart-complete:disabled,\n",
              "  .colab-df-quickchart-complete:disabled:hover {\n",
              "    background-color: var(--disabled-bg-color);\n",
              "    fill: var(--disabled-fill-color);\n",
              "    box-shadow: none;\n",
              "  }\n",
              "\n",
              "  .colab-df-spinner {\n",
              "    border: 2px solid var(--fill-color);\n",
              "    border-color: transparent;\n",
              "    border-bottom-color: var(--fill-color);\n",
              "    animation:\n",
              "      spin 1s steps(1) infinite;\n",
              "  }\n",
              "\n",
              "  @keyframes spin {\n",
              "    0% {\n",
              "      border-color: transparent;\n",
              "      border-bottom-color: var(--fill-color);\n",
              "      border-left-color: var(--fill-color);\n",
              "    }\n",
              "    20% {\n",
              "      border-color: transparent;\n",
              "      border-left-color: var(--fill-color);\n",
              "      border-top-color: var(--fill-color);\n",
              "    }\n",
              "    30% {\n",
              "      border-color: transparent;\n",
              "      border-left-color: var(--fill-color);\n",
              "      border-top-color: var(--fill-color);\n",
              "      border-right-color: var(--fill-color);\n",
              "    }\n",
              "    40% {\n",
              "      border-color: transparent;\n",
              "      border-right-color: var(--fill-color);\n",
              "      border-top-color: var(--fill-color);\n",
              "    }\n",
              "    60% {\n",
              "      border-color: transparent;\n",
              "      border-right-color: var(--fill-color);\n",
              "    }\n",
              "    80% {\n",
              "      border-color: transparent;\n",
              "      border-right-color: var(--fill-color);\n",
              "      border-bottom-color: var(--fill-color);\n",
              "    }\n",
              "    90% {\n",
              "      border-color: transparent;\n",
              "      border-bottom-color: var(--fill-color);\n",
              "    }\n",
              "  }\n",
              "</style>\n",
              "\n",
              "  <script>\n",
              "    async function quickchart(key) {\n",
              "      const quickchartButtonEl =\n",
              "        document.querySelector('#' + key + ' button');\n",
              "      quickchartButtonEl.disabled = true;  // To prevent multiple clicks.\n",
              "      quickchartButtonEl.classList.add('colab-df-spinner');\n",
              "      try {\n",
              "        const charts = await google.colab.kernel.invokeFunction(\n",
              "            'suggestCharts', [key], {});\n",
              "      } catch (error) {\n",
              "        console.error('Error during call to suggestCharts:', error);\n",
              "      }\n",
              "      quickchartButtonEl.classList.remove('colab-df-spinner');\n",
              "      quickchartButtonEl.classList.add('colab-df-quickchart-complete');\n",
              "    }\n",
              "    (() => {\n",
              "      let quickchartButtonEl =\n",
              "        document.querySelector('#df-5f540bb4-2b31-46aa-b07b-e40969c59894 button');\n",
              "      quickchartButtonEl.style.display =\n",
              "        google.colab.kernel.accessAllowed ? 'block' : 'none';\n",
              "    })();\n",
              "  </script>\n",
              "</div>\n",
              "\n",
              "  <div id=\"id_d7da372f-d603-4f2a-bf3e-a7d1aa360d08\">\n",
              "    <style>\n",
              "      .colab-df-generate {\n",
              "        background-color: #E8F0FE;\n",
              "        border: none;\n",
              "        border-radius: 50%;\n",
              "        cursor: pointer;\n",
              "        display: none;\n",
              "        fill: #1967D2;\n",
              "        height: 32px;\n",
              "        padding: 0 0 0 0;\n",
              "        width: 32px;\n",
              "      }\n",
              "\n",
              "      .colab-df-generate:hover {\n",
              "        background-color: #E2EBFA;\n",
              "        box-shadow: 0px 1px 2px rgba(60, 64, 67, 0.3), 0px 1px 3px 1px rgba(60, 64, 67, 0.15);\n",
              "        fill: #174EA6;\n",
              "      }\n",
              "\n",
              "      [theme=dark] .colab-df-generate {\n",
              "        background-color: #3B4455;\n",
              "        fill: #D2E3FC;\n",
              "      }\n",
              "\n",
              "      [theme=dark] .colab-df-generate:hover {\n",
              "        background-color: #434B5C;\n",
              "        box-shadow: 0px 1px 3px 1px rgba(0, 0, 0, 0.15);\n",
              "        filter: drop-shadow(0px 1px 2px rgba(0, 0, 0, 0.3));\n",
              "        fill: #FFFFFF;\n",
              "      }\n",
              "    </style>\n",
              "    <button class=\"colab-df-generate\" onclick=\"generateWithVariable('results')\"\n",
              "            title=\"Generate code using this dataframe.\"\n",
              "            style=\"display:none;\">\n",
              "\n",
              "  <svg xmlns=\"http://www.w3.org/2000/svg\" height=\"24px\"viewBox=\"0 0 24 24\"\n",
              "       width=\"24px\">\n",
              "    <path d=\"M7,19H8.4L18.45,9,17,7.55,7,17.6ZM5,21V16.75L18.45,3.32a2,2,0,0,1,2.83,0l1.4,1.43a1.91,1.91,0,0,1,.58,1.4,1.91,1.91,0,0,1-.58,1.4L9.25,21ZM18.45,9,17,7.55Zm-12,3A5.31,5.31,0,0,0,4.9,8.1,5.31,5.31,0,0,0,1,6.5,5.31,5.31,0,0,0,4.9,4.9,5.31,5.31,0,0,0,6.5,1,5.31,5.31,0,0,0,8.1,4.9,5.31,5.31,0,0,0,12,6.5,5.46,5.46,0,0,0,6.5,12Z\"/>\n",
              "  </svg>\n",
              "    </button>\n",
              "    <script>\n",
              "      (() => {\n",
              "      const buttonEl =\n",
              "        document.querySelector('#id_d7da372f-d603-4f2a-bf3e-a7d1aa360d08 button.colab-df-generate');\n",
              "      buttonEl.style.display =\n",
              "        google.colab.kernel.accessAllowed ? 'block' : 'none';\n",
              "\n",
              "      buttonEl.onclick = () => {\n",
              "        google.colab.notebook.generateWithVariable('results');\n",
              "      }\n",
              "      })();\n",
              "    </script>\n",
              "  </div>\n",
              "\n",
              "    </div>\n",
              "  </div>\n"
            ],
            "application/vnd.google.colaboratory.intrinsic+json": {
              "type": "dataframe",
              "variable_name": "results",
              "summary": "{\n  \"name\": \"results\",\n  \"rows\": 5,\n  \"fields\": [\n    {\n      \"column\": \"subject\",\n      \"properties\": {\n        \"dtype\": \"string\",\n        \"num_unique_values\": 3,\n        \"samples\": [\n          \"http://example.com/Please_Please_Me\",\n          \"http://example.com/McCartney\",\n          \"http://example.com/Imagine\"\n        ],\n        \"semantic_type\": \"\",\n        \"description\": \"\"\n      }\n    },\n    {\n      \"column\": \"p\",\n      \"properties\": {\n        \"dtype\": \"string\",\n        \"num_unique_values\": 2,\n        \"samples\": [\n          \"http://example.com/date\",\n          \"http://example.com/artist\"\n        ],\n        \"semantic_type\": \"\",\n        \"description\": \"\"\n      }\n    },\n    {\n      \"column\": \"o\",\n      \"properties\": {\n        \"dtype\": \"string\",\n        \"num_unique_values\": 5,\n        \"samples\": [\n          \"http://example.com/Paul_McCartney\",\n          \"1970-04-17\"\n        ],\n        \"semantic_type\": \"\",\n        \"description\": \"\"\n      }\n    }\n  ]\n}"
            }
          },
          "metadata": {},
          "execution_count": 6
        }
      ],
      "source": [
        "import os\n",
        "data_path = os.path.abspath('./data/beatles.rdf')\n",
        "\n",
        "query = '''\n",
        "SELECT *\n",
        "WHERE {?subject ?p ?o} LIMIT 5'''\n",
        "\n",
        "graph = corese.loadRDF(data_path)\n",
        "results = corese.sparqlSelect(graph, query=query, return_dataframe=True)\n",
        "\n",
        "results"
      ]
    },
    {
      "cell_type": "markdown",
      "metadata": {
        "id": "7iohNvoue64q"
      },
      "source": [
        "#### Load inference rules"
      ]
    },
    {
      "cell_type": "code",
      "execution_count": 7,
      "metadata": {
        "colab": {
          "base_uri": "https://localhost:8080/"
        },
        "id": "0kzC2BXSe64q",
        "outputId": "67cdc27e-20b1-45ca-b045-a981abc2a6b5"
      },
      "outputs": [
        {
          "output_type": "stream",
          "name": "stdout",
          "text": [
            "                                     s                           type\n",
            "0  http://example.com/Please_Please_Me       http://example.com/Album\n",
            "1         http://example.com/McCartney       http://example.com/Album\n",
            "2           http://example.com/Imagine       http://example.com/Album\n",
            "3       http://example.com/The_Beatles        http://example.com/Band\n",
            "4       http://example.com/John_Lennon  http://example.com/SoloArtist\n",
            "5    http://example.com/Paul_McCartney  http://example.com/SoloArtist\n",
            "6       http://example.com/Ringo_Starr  http://example.com/SoloArtist\n",
            "7   http://example.com/George_Harrison  http://example.com/SoloArtist\n",
            "8        http://example.com/Love_Me_Do        http://example.com/Song\n",
            "Graph size:  29\n"
          ]
        }
      ],
      "source": [
        "corese.resetRuleEngine(graph)\n",
        "query = \"select * where {?s a ?type} order by ?type\"\n",
        "print(corese.sparqlSelect(graph, query=query))\n",
        "print(\"Graph size: \", graph.graphSize())\n"
      ]
    },
    {
      "cell_type": "markdown",
      "metadata": {
        "id": "SbSrRfsWe64q"
      },
      "source": [
        "Adding inference rules to the Corese engine should change the results of the query by adding new triples."
      ]
    },
    {
      "cell_type": "code",
      "execution_count": 8,
      "metadata": {
        "colab": {
          "base_uri": "https://localhost:8080/"
        },
        "id": "op-vR8rge64q",
        "outputId": "71037bd8-ad16-47ea-f476-778ff55df6b4"
      },
      "outputs": [
        {
          "output_type": "stream",
          "name": "stdout",
          "text": [
            "Graph size:  33\n"
          ]
        }
      ],
      "source": [
        "corese.loadRuleEngine(graph, profile=corese.RuleEngine.Profile.RDFS)\n",
        "print(\"Graph size: \", graph.graphSize())"
      ]
    },
    {
      "cell_type": "markdown",
      "metadata": {
        "id": "0ILJiiQJe64q"
      },
      "source": [
        "Let's see what was added."
      ]
    },
    {
      "cell_type": "code",
      "execution_count": 9,
      "metadata": {
        "colab": {
          "base_uri": "https://localhost:8080/"
        },
        "id": "X_rFryste64q",
        "outputId": "90748a5e-a62a-4eb0-9475-c0c225b580db"
      },
      "outputs": [
        {
          "output_type": "stream",
          "name": "stdout",
          "text": [
            "                                      s                           type\n",
            "0   http://example.com/Please_Please_Me       http://example.com/Album\n",
            "1          http://example.com/McCartney       http://example.com/Album\n",
            "2            http://example.com/Imagine       http://example.com/Album\n",
            "3        http://example.com/The_Beatles        http://example.com/Band\n",
            "4        http://example.com/John_Lennon      http://example.com/Person\n",
            "5     http://example.com/Paul_McCartney      http://example.com/Person\n",
            "6        http://example.com/Ringo_Starr      http://example.com/Person\n",
            "7    http://example.com/George_Harrison      http://example.com/Person\n",
            "8        http://example.com/John_Lennon  http://example.com/SoloArtist\n",
            "9     http://example.com/Paul_McCartney  http://example.com/SoloArtist\n",
            "10       http://example.com/Ringo_Starr  http://example.com/SoloArtist\n",
            "11   http://example.com/George_Harrison  http://example.com/SoloArtist\n",
            "12        http://example.com/Love_Me_Do        http://example.com/Song\n",
            "Graph size:  33\n"
          ]
        }
      ],
      "source": [
        "query = \"select * where {?s a ?type} order by ?type\"\n",
        "print(corese.sparqlSelect(graph, query=query))\n",
        "print(\"Graph size: \", graph.graphSize())"
      ]
    },
    {
      "cell_type": "markdown",
      "metadata": {
        "id": "yvIlPQVue64r"
      },
      "source": [
        "The inference was that the solo artist is also a person although it was not explicitly stated in the data."
      ]
    },
    {
      "cell_type": "markdown",
      "metadata": {
        "id": "enpoRBHve64r"
      },
      "source": [
        "#### Run CONSTRUCT query"
      ]
    },
    {
      "cell_type": "code",
      "execution_count": 10,
      "metadata": {
        "colab": {
          "base_uri": "https://localhost:8080/"
        },
        "id": "9Ii81qu1e64r",
        "outputId": "34797524-d9f7-436e-b7cd-04b84655b451"
      },
      "outputs": [
        {
          "output_type": "stream",
          "name": "stdout",
          "text": [
            "<?xml version=\"1.0\"?>\n",
            "<rdf:RDF\n",
            "  xmlns:ex='http://example.com/'\n",
            "  xmlns:rdf='http://www.w3.org/1999/02/22-rdf-syntax-ns#'>\n",
            "\n",
            "  <ex:BandMember rdf:about='http://example.com/Ringo_Starr'>\n",
            "  </ex:BandMember>\n",
            "\n",
            "  <ex:BandMember rdf:about='http://example.com/John_Lennon'>\n",
            "  </ex:BandMember>\n",
            "\n",
            "  <ex:BandMember rdf:about='http://example.com/George_Harrison'>\n",
            "  </ex:BandMember>\n",
            "\n",
            "  <ex:BandMember rdf:about='http://example.com/Paul_McCartney'>\n",
            "  </ex:BandMember>\n",
            "\n",
            "</rdf:RDF>\n"
          ]
        }
      ],
      "source": [
        "prefixes = '@prefix ex: <http://example.com/>'\n",
        "contruct = '''CONSTRUCT {?A_Beatle a ex:BandMember }\n",
        "              WHERE { ex:The_Beatles ex:member ?A_Beatle}'''\n",
        "\n",
        "results = corese.sparqlConstruct(graph, prefixes=prefixes, query=contruct)\n",
        "\n",
        "print(results)"
      ]
    },
    {
      "cell_type": "markdown",
      "metadata": {
        "id": "0PPF87F2e64r"
      },
      "source": [
        "By default, the CONSTRUCT query returns the RDF/XML format. For more concise format convert the results to Turtle."
      ]
    },
    {
      "cell_type": "code",
      "execution_count": 11,
      "metadata": {
        "colab": {
          "base_uri": "https://localhost:8080/"
        },
        "id": "TULma6_Ce64r",
        "outputId": "d07d39db-8282-4d2f-e957-609c0f1170e7"
      },
      "outputs": [
        {
          "output_type": "stream",
          "name": "stdout",
          "text": [
            "\n",
            "<http://example.com/George_Harrison> a <http://example.com/BandMember> .\n",
            "\n",
            "<http://example.com/John_Lennon> a <http://example.com/BandMember> .\n",
            "\n",
            "<http://example.com/Paul_McCartney> a <http://example.com/BandMember> .\n",
            "\n",
            "<http://example.com/Ringo_Starr> a <http://example.com/BandMember> .\n",
            "\n",
            "\n"
          ]
        }
      ],
      "source": [
        "ttl = corese.toTurtle(results)\n",
        "\n",
        "print(ttl)"
      ]
    },
    {
      "cell_type": "markdown",
      "metadata": {
        "id": "znZOJMz1e64r"
      },
      "source": [
        "#### Run SHACL form validation"
      ]
    },
    {
      "cell_type": "markdown",
      "metadata": {
        "id": "liQCAMpFe64s"
      },
      "source": [
        "In the example below, we will use the the SHACL shape file that validates that the *beatles* graph follows the rules:\n",
        "\n",
        "- A band has a name and at least on member who is also a Solo Artist\n",
        "- An album has one name, one date and one artist associated with it\n",
        "- A song has one name, one duration and at least writer and at least one performer associated with it\n",
        "\n",
        "The validation should fail because the *beatles* graph does not contain the required information.    "
      ]
    },
    {
      "cell_type": "code",
      "execution_count": 14,
      "metadata": {
        "colab": {
          "base_uri": "https://localhost:8080/"
        },
        "id": "MOsEDfB3e64s",
        "outputId": "0c679fbc-63f6-43f4-e2c7-ffb903f0fe65"
      },
      "outputs": [
        {
          "output_type": "stream",
          "name": "stdout",
          "text": [
            "PREFIX sh: <http://www.w3.org/ns/shacl#>\n",
            "PREFIX xsd: <http://www.w3.org/2001/XMLSchema#>\n",
            "PREFIX ex: <http://example.com/>\n",
            "\n",
            "# Shape for Bands\n",
            "ex:BandShape a sh:NodeShape ;\n",
            "    sh:targetClass ex:Band ;\n",
            "    sh:property [\n",
            "        sh:path ex:name ;\n",
            "        sh:datatype xsd:string ;\n",
            "        sh:minCount 1 ;\n",
            "        sh:maxCount 1 ;\n",
            "    ] ;\n",
            "    sh:property [\n",
            "        sh:path ex:member ;\n",
            "        sh:class ex:SoloArtist ;\n",
            "        sh:minCount 1 ;\n",
            "    ] .\n",
            "\n",
            "# Shape for Solo Artists\n",
            "ex:SoloArtistShape a sh:NodeShape ;\n",
            "    sh:targetClass ex:SoloArtist .\n",
            "\n",
            "# Shape for Albums\n",
            "ex:AlbumShape a sh:NodeShape ;\n",
            "    sh:targetClass ex:Album ;\n",
            "    sh:property [\n",
            "        sh:path ex:name ;\n",
            "        sh:datatype xsd:string ;\n",
            "        sh:minCount 1 ;\n",
            "        sh:maxCount 1 ;\n",
            "    ] ;\n",
            "    sh:property [\n",
            "        sh:path ex:date ;\n",
            "        sh:datatype xsd:date ;\n",
            "        sh:minCount 1 ;\n",
            "        sh:maxCount 1 ;\n",
            "    ] ;\n",
            "    sh:property [\n",
            "        sh:path ex:artist ;\n",
            "        sh:nodeKind sh:IRI ;\n",
            "        sh:minCount 1 ;\n",
            "        sh:maxCount 1 ;\n",
            "    ] .\n",
            "\n",
            "# Shape for Songs\n",
            "ex:SongShape a sh:NodeShape ;\n",
            "    sh:targetClass ex:Song ;\n",
            "    sh:property [\n",
            "        sh:path ex:name ;\n",
            "        sh:datatype xsd:string ;\n",
            "        sh:minCount 1 ;\n",
            "        sh:maxCount 1 ;\n",
            "    ] ;\n",
            "    sh:property [\n",
            "        sh:path ex:length ;\n",
            "        sh:datatype xsd:integer ;\n",
            "        sh:minCount 1 ;\n",
            "        sh:maxCount 1 ;\n",
            "    ] ;\n",
            "        sh:property [\n",
            "        sh:path ex:performer ;\n",
            "        sh:nodeKind sh:IRI ;\n",
            "        sh:minCount 1 ;\n",
            "    ] ;\n",
            "    sh:property [\n",
            "        sh:path ex:writer ;\n",
            "        sh:nodeKind sh:IRI ;\n",
            "        sh:minCount 1 ;\n",
            "    ] .\n",
            "\n"
          ]
        }
      ],
      "source": [
        "data_shape_path = os.path.abspath('./data/beatles-validator.ttl')\n",
        "\n",
        "with open(data_shape_path, 'r') as file:\n",
        "    data_shape = file.read()\n",
        "    print(data_shape)"
      ]
    },
    {
      "cell_type": "code",
      "execution_count": 15,
      "metadata": {
        "colab": {
          "base_uri": "https://localhost:8080/"
        },
        "id": "Oa-7_Q_qe64s",
        "outputId": "dc28aae0-9e06-4a64-98a1-c3bde17c9626"
      },
      "outputs": [
        {
          "output_type": "stream",
          "name": "stdout",
          "text": [
            "@prefix xsh: <http://www.w3.org/ns/shacl#> .\n",
            "@prefix sh: <http://www.w3.org/ns/shacl#> .\n",
            "\n",
            "<urn:uuid:88c59eb9-6785-46ca-96a6-609ec032ebb2> a sh:ValidationResult ;\n",
            "  sh:focusNode <http://example.com/Love_Me_Do> ;\n",
            "  sh:resultMessage \"Fail at: [sh:minCount 1 ;\\n  sh:nodeKind sh:IRI ;\\n  sh:path <http://example.com/performer>]\" ;\n",
            "  sh:resultPath <http://example.com/performer> ;\n",
            "  sh:resultSeverity sh:Violation ;\n",
            "  sh:sourceConstraintComponent sh:MinCountConstraintComponent ;\n",
            "  sh:sourceShape _:b7 ;\n",
            "  sh:value 0 .\n",
            "\n",
            "[a sh:ValidationReport ;\n",
            "  sh:conforms false ;\n",
            "  sh:result <urn:uuid:88c59eb9-6785-46ca-96a6-609ec032ebb2>] .\n",
            "\n",
            "\n"
          ]
        }
      ],
      "source": [
        "prefixes = '@prefix ex: <http://example.com/>'\n",
        "report = corese.shaclValidate(graph, shacl_shape_ttl=data_shape_path, prefixes=prefixes)\n",
        "\n",
        "print(report)"
      ]
    },
    {
      "cell_type": "markdown",
      "metadata": {
        "id": "ErOwy8yMe64s"
      },
      "source": [
        "The SHACL validation report is verbose and can be reshaped into a DataFrame for readability."
      ]
    },
    {
      "cell_type": "code",
      "execution_count": 16,
      "metadata": {
        "colab": {
          "base_uri": "https://localhost:8080/",
          "height": 184
        },
        "id": "K4_fQT0Ye64s",
        "outputId": "6ce3441d-f987-441c-e0df-7ad888bf3dfa"
      },
      "outputs": [
        {
          "output_type": "execute_result",
          "data": {
            "text/plain": [
              "                                                                                      type  \\\n",
              "o                                                                                            \n",
              "urn:uuid:88c59eb9-6785-46ca-96a6-609ec032ebb2  http://www.w3.org/ns/shacl#ValidationResult   \n",
              "\n",
              "                                                                   focusNode  \\\n",
              "o                                                                              \n",
              "urn:uuid:88c59eb9-6785-46ca-96a6-609ec032ebb2  http://example.com/Love_Me_Do   \n",
              "\n",
              "                                                                                   resultMessage  \\\n",
              "o                                                                                                  \n",
              "urn:uuid:88c59eb9-6785-46ca-96a6-609ec032ebb2  Fail at: [sh:minCount 1 ;\n",
              "  sh:nodeKind sh:IRI...   \n",
              "\n",
              "                                                                 resultPath  \\\n",
              "o                                                                             \n",
              "urn:uuid:88c59eb9-6785-46ca-96a6-609ec032ebb2  http://example.com/performer   \n",
              "\n",
              "                                                                     resultSeverity  \\\n",
              "o                                                                                     \n",
              "urn:uuid:88c59eb9-6785-46ca-96a6-609ec032ebb2  http://www.w3.org/ns/shacl#Violation   \n",
              "\n",
              "                                                                       sourceConstraintComponent  \\\n",
              "o                                                                                                  \n",
              "urn:uuid:88c59eb9-6785-46ca-96a6-609ec032ebb2  http://www.w3.org/ns/shacl#MinCountConstraintC...   \n",
              "\n",
              "                                              sourceShape value  \n",
              "o                                                                \n",
              "urn:uuid:88c59eb9-6785-46ca-96a6-609ec032ebb2        _:b9     0  "
            ],
            "text/html": [
              "\n",
              "  <div id=\"df-3b96803b-7056-4caf-8bad-06e5f5498ad8\" class=\"colab-df-container\">\n",
              "    <div>\n",
              "<style scoped>\n",
              "    .dataframe tbody tr th:only-of-type {\n",
              "        vertical-align: middle;\n",
              "    }\n",
              "\n",
              "    .dataframe tbody tr th {\n",
              "        vertical-align: top;\n",
              "    }\n",
              "\n",
              "    .dataframe thead th {\n",
              "        text-align: right;\n",
              "    }\n",
              "</style>\n",
              "<table border=\"1\" class=\"dataframe\">\n",
              "  <thead>\n",
              "    <tr style=\"text-align: right;\">\n",
              "      <th></th>\n",
              "      <th>type</th>\n",
              "      <th>focusNode</th>\n",
              "      <th>resultMessage</th>\n",
              "      <th>resultPath</th>\n",
              "      <th>resultSeverity</th>\n",
              "      <th>sourceConstraintComponent</th>\n",
              "      <th>sourceShape</th>\n",
              "      <th>value</th>\n",
              "    </tr>\n",
              "    <tr>\n",
              "      <th>o</th>\n",
              "      <th></th>\n",
              "      <th></th>\n",
              "      <th></th>\n",
              "      <th></th>\n",
              "      <th></th>\n",
              "      <th></th>\n",
              "      <th></th>\n",
              "      <th></th>\n",
              "    </tr>\n",
              "  </thead>\n",
              "  <tbody>\n",
              "    <tr>\n",
              "      <th>urn:uuid:88c59eb9-6785-46ca-96a6-609ec032ebb2</th>\n",
              "      <td>http://www.w3.org/ns/shacl#ValidationResult</td>\n",
              "      <td>http://example.com/Love_Me_Do</td>\n",
              "      <td>Fail at: [sh:minCount 1 ;\n",
              "  sh:nodeKind sh:IRI...</td>\n",
              "      <td>http://example.com/performer</td>\n",
              "      <td>http://www.w3.org/ns/shacl#Violation</td>\n",
              "      <td>http://www.w3.org/ns/shacl#MinCountConstraintC...</td>\n",
              "      <td>_:b9</td>\n",
              "      <td>0</td>\n",
              "    </tr>\n",
              "  </tbody>\n",
              "</table>\n",
              "</div>\n",
              "    <div class=\"colab-df-buttons\">\n",
              "\n",
              "  <div class=\"colab-df-container\">\n",
              "    <button class=\"colab-df-convert\" onclick=\"convertToInteractive('df-3b96803b-7056-4caf-8bad-06e5f5498ad8')\"\n",
              "            title=\"Convert this dataframe to an interactive table.\"\n",
              "            style=\"display:none;\">\n",
              "\n",
              "  <svg xmlns=\"http://www.w3.org/2000/svg\" height=\"24px\" viewBox=\"0 -960 960 960\">\n",
              "    <path d=\"M120-120v-720h720v720H120Zm60-500h600v-160H180v160Zm220 220h160v-160H400v160Zm0 220h160v-160H400v160ZM180-400h160v-160H180v160Zm440 0h160v-160H620v160ZM180-180h160v-160H180v160Zm440 0h160v-160H620v160Z\"/>\n",
              "  </svg>\n",
              "    </button>\n",
              "\n",
              "  <style>\n",
              "    .colab-df-container {\n",
              "      display:flex;\n",
              "      gap: 12px;\n",
              "    }\n",
              "\n",
              "    .colab-df-convert {\n",
              "      background-color: #E8F0FE;\n",
              "      border: none;\n",
              "      border-radius: 50%;\n",
              "      cursor: pointer;\n",
              "      display: none;\n",
              "      fill: #1967D2;\n",
              "      height: 32px;\n",
              "      padding: 0 0 0 0;\n",
              "      width: 32px;\n",
              "    }\n",
              "\n",
              "    .colab-df-convert:hover {\n",
              "      background-color: #E2EBFA;\n",
              "      box-shadow: 0px 1px 2px rgba(60, 64, 67, 0.3), 0px 1px 3px 1px rgba(60, 64, 67, 0.15);\n",
              "      fill: #174EA6;\n",
              "    }\n",
              "\n",
              "    .colab-df-buttons div {\n",
              "      margin-bottom: 4px;\n",
              "    }\n",
              "\n",
              "    [theme=dark] .colab-df-convert {\n",
              "      background-color: #3B4455;\n",
              "      fill: #D2E3FC;\n",
              "    }\n",
              "\n",
              "    [theme=dark] .colab-df-convert:hover {\n",
              "      background-color: #434B5C;\n",
              "      box-shadow: 0px 1px 3px 1px rgba(0, 0, 0, 0.15);\n",
              "      filter: drop-shadow(0px 1px 2px rgba(0, 0, 0, 0.3));\n",
              "      fill: #FFFFFF;\n",
              "    }\n",
              "  </style>\n",
              "\n",
              "    <script>\n",
              "      const buttonEl =\n",
              "        document.querySelector('#df-3b96803b-7056-4caf-8bad-06e5f5498ad8 button.colab-df-convert');\n",
              "      buttonEl.style.display =\n",
              "        google.colab.kernel.accessAllowed ? 'block' : 'none';\n",
              "\n",
              "      async function convertToInteractive(key) {\n",
              "        const element = document.querySelector('#df-3b96803b-7056-4caf-8bad-06e5f5498ad8');\n",
              "        const dataTable =\n",
              "          await google.colab.kernel.invokeFunction('convertToInteractive',\n",
              "                                                    [key], {});\n",
              "        if (!dataTable) return;\n",
              "\n",
              "        const docLinkHtml = 'Like what you see? Visit the ' +\n",
              "          '<a target=\"_blank\" href=https://colab.research.google.com/notebooks/data_table.ipynb>data table notebook</a>'\n",
              "          + ' to learn more about interactive tables.';\n",
              "        element.innerHTML = '';\n",
              "        dataTable['output_type'] = 'display_data';\n",
              "        await google.colab.output.renderOutput(dataTable, element);\n",
              "        const docLink = document.createElement('div');\n",
              "        docLink.innerHTML = docLinkHtml;\n",
              "        element.appendChild(docLink);\n",
              "      }\n",
              "    </script>\n",
              "  </div>\n",
              "\n",
              "\n",
              "  <div id=\"id_253757e1-8e0e-4f91-bad3-fc9a64a2e80a\">\n",
              "    <style>\n",
              "      .colab-df-generate {\n",
              "        background-color: #E8F0FE;\n",
              "        border: none;\n",
              "        border-radius: 50%;\n",
              "        cursor: pointer;\n",
              "        display: none;\n",
              "        fill: #1967D2;\n",
              "        height: 32px;\n",
              "        padding: 0 0 0 0;\n",
              "        width: 32px;\n",
              "      }\n",
              "\n",
              "      .colab-df-generate:hover {\n",
              "        background-color: #E2EBFA;\n",
              "        box-shadow: 0px 1px 2px rgba(60, 64, 67, 0.3), 0px 1px 3px 1px rgba(60, 64, 67, 0.15);\n",
              "        fill: #174EA6;\n",
              "      }\n",
              "\n",
              "      [theme=dark] .colab-df-generate {\n",
              "        background-color: #3B4455;\n",
              "        fill: #D2E3FC;\n",
              "      }\n",
              "\n",
              "      [theme=dark] .colab-df-generate:hover {\n",
              "        background-color: #434B5C;\n",
              "        box-shadow: 0px 1px 3px 1px rgba(0, 0, 0, 0.15);\n",
              "        filter: drop-shadow(0px 1px 2px rgba(0, 0, 0, 0.3));\n",
              "        fill: #FFFFFF;\n",
              "      }\n",
              "    </style>\n",
              "    <button class=\"colab-df-generate\" onclick=\"generateWithVariable('report_dataframe')\"\n",
              "            title=\"Generate code using this dataframe.\"\n",
              "            style=\"display:none;\">\n",
              "\n",
              "  <svg xmlns=\"http://www.w3.org/2000/svg\" height=\"24px\"viewBox=\"0 0 24 24\"\n",
              "       width=\"24px\">\n",
              "    <path d=\"M7,19H8.4L18.45,9,17,7.55,7,17.6ZM5,21V16.75L18.45,3.32a2,2,0,0,1,2.83,0l1.4,1.43a1.91,1.91,0,0,1,.58,1.4,1.91,1.91,0,0,1-.58,1.4L9.25,21ZM18.45,9,17,7.55Zm-12,3A5.31,5.31,0,0,0,4.9,8.1,5.31,5.31,0,0,0,1,6.5,5.31,5.31,0,0,0,4.9,4.9,5.31,5.31,0,0,0,6.5,1,5.31,5.31,0,0,0,8.1,4.9,5.31,5.31,0,0,0,12,6.5,5.46,5.46,0,0,0,6.5,12Z\"/>\n",
              "  </svg>\n",
              "    </button>\n",
              "    <script>\n",
              "      (() => {\n",
              "      const buttonEl =\n",
              "        document.querySelector('#id_253757e1-8e0e-4f91-bad3-fc9a64a2e80a button.colab-df-generate');\n",
              "      buttonEl.style.display =\n",
              "        google.colab.kernel.accessAllowed ? 'block' : 'none';\n",
              "\n",
              "      buttonEl.onclick = () => {\n",
              "        google.colab.notebook.generateWithVariable('report_dataframe');\n",
              "      }\n",
              "      })();\n",
              "    </script>\n",
              "  </div>\n",
              "\n",
              "    </div>\n",
              "  </div>\n"
            ],
            "application/vnd.google.colaboratory.intrinsic+json": {
              "type": "dataframe",
              "variable_name": "report_dataframe",
              "summary": "{\n  \"name\": \"report_dataframe\",\n  \"rows\": 1,\n  \"fields\": [\n    {\n      \"column\": \"o\",\n      \"properties\": {\n        \"dtype\": \"string\",\n        \"num_unique_values\": 1,\n        \"samples\": [\n          \"urn:uuid:88c59eb9-6785-46ca-96a6-609ec032ebb2\"\n        ],\n        \"semantic_type\": \"\",\n        \"description\": \"\"\n      }\n    },\n    {\n      \"column\": \"type\",\n      \"properties\": {\n        \"dtype\": \"string\",\n        \"num_unique_values\": 1,\n        \"samples\": [\n          \"http://www.w3.org/ns/shacl#ValidationResult\"\n        ],\n        \"semantic_type\": \"\",\n        \"description\": \"\"\n      }\n    },\n    {\n      \"column\": \"focusNode\",\n      \"properties\": {\n        \"dtype\": \"string\",\n        \"num_unique_values\": 1,\n        \"samples\": [\n          \"http://example.com/Love_Me_Do\"\n        ],\n        \"semantic_type\": \"\",\n        \"description\": \"\"\n      }\n    },\n    {\n      \"column\": \"resultMessage\",\n      \"properties\": {\n        \"dtype\": \"string\",\n        \"num_unique_values\": 1,\n        \"samples\": [\n          \"Fail at: [sh:minCount 1 ;\\n  sh:nodeKind sh:IRI ;\\n  sh:path <http://example.com/performer>]\"\n        ],\n        \"semantic_type\": \"\",\n        \"description\": \"\"\n      }\n    },\n    {\n      \"column\": \"resultPath\",\n      \"properties\": {\n        \"dtype\": \"string\",\n        \"num_unique_values\": 1,\n        \"samples\": [\n          \"http://example.com/performer\"\n        ],\n        \"semantic_type\": \"\",\n        \"description\": \"\"\n      }\n    },\n    {\n      \"column\": \"resultSeverity\",\n      \"properties\": {\n        \"dtype\": \"string\",\n        \"num_unique_values\": 1,\n        \"samples\": [\n          \"http://www.w3.org/ns/shacl#Violation\"\n        ],\n        \"semantic_type\": \"\",\n        \"description\": \"\"\n      }\n    },\n    {\n      \"column\": \"sourceConstraintComponent\",\n      \"properties\": {\n        \"dtype\": \"string\",\n        \"num_unique_values\": 1,\n        \"samples\": [\n          \"http://www.w3.org/ns/shacl#MinCountConstraintComponent\"\n        ],\n        \"semantic_type\": \"\",\n        \"description\": \"\"\n      }\n    },\n    {\n      \"column\": \"sourceShape\",\n      \"properties\": {\n        \"dtype\": \"string\",\n        \"num_unique_values\": 1,\n        \"samples\": [\n          \"_:b9\"\n        ],\n        \"semantic_type\": \"\",\n        \"description\": \"\"\n      }\n    },\n    {\n      \"column\": \"value\",\n      \"properties\": {\n        \"dtype\": \"string\",\n        \"num_unique_values\": 1,\n        \"samples\": [\n          \"0\"\n        ],\n        \"semantic_type\": \"\",\n        \"description\": \"\"\n      }\n    }\n  ]\n}"
            }
          },
          "metadata": {},
          "execution_count": 16
        }
      ],
      "source": [
        "report_dataframe = corese.shaclReportToDataFrame(report)\n",
        "\n",
        "report_dataframe"
      ]
    },
    {
      "cell_type": "markdown",
      "metadata": {
        "id": "d6xlzpURe64t"
      },
      "source": [
        "The report tells us that for the song *Love Me Do* a performer is not specified."
      ]
    },
    {
      "cell_type": "markdown",
      "metadata": {
        "id": "Nt-rvV1Pe64t"
      },
      "source": [
        "## Low-level API"
      ]
    },
    {
      "cell_type": "markdown",
      "metadata": {
        "id": "NgjIq4y-e64t"
      },
      "source": [
        "Adding triples manually to the graph."
      ]
    },
    {
      "cell_type": "code",
      "execution_count": 17,
      "metadata": {
        "colab": {
          "base_uri": "https://localhost:8080/"
        },
        "id": "egIhirIce64t",
        "outputId": "02c5996d-8eeb-4062-89dc-d6e77ae4a905"
      },
      "outputs": [
        {
          "output_type": "execute_result",
          "data": {
            "text/plain": [
              "JavaObject id=o47"
            ]
          },
          "metadata": {},
          "execution_count": 17
        }
      ],
      "source": [
        "# Namespace\n",
        "ex = \"http://example.com/\"\n",
        "\n",
        "# Get the graph from either Graph or DataManager objects\n",
        "graph = graph.getGraph()\n",
        "\n",
        "# Create and add statements: Help! is an album\n",
        "new_album_IRI = graph.addResource(ex + \"Help\")\n",
        "rdf_Type_Property = graph.addProperty(corese.Namespaces.RDF + 'type')\n",
        "album_type_IRI = graph.addResource(ex + \"Album\")\n",
        "\n",
        "graph.addEdge(new_album_IRI, rdf_Type_Property, album_type_IRI)\n"
      ]
    },
    {
      "cell_type": "markdown",
      "metadata": {
        "id": "BqmK5N5Xe64t"
      },
      "source": [
        "Let's see what was added."
      ]
    },
    {
      "cell_type": "code",
      "execution_count": 18,
      "metadata": {
        "colab": {
          "base_uri": "https://localhost:8080/"
        },
        "id": "2l26SHjWe64u",
        "outputId": "87add254-e354-427b-b614-4863a0be45d4"
      },
      "outputs": [
        {
          "output_type": "stream",
          "name": "stdout",
          "text": [
            "01 ?album = <http://example.com/Please_Please_Me>; \n",
            "02 ?album = <http://example.com/McCartney>; \n",
            "03 ?album = <http://example.com/Imagine>; \n",
            "04 ?album = <http://example.com/Help>; \n",
            "\n"
          ]
        }
      ],
      "source": [
        "query = f'''@prefix ex: <{ex}>\n",
        "            SELECT *\n",
        "            where {{?album a ex:Album }}'''\n",
        "\n",
        "exec = corese.QueryProcess.create(graph)\n",
        "\n",
        "results = exec.query(query)\n",
        "\n",
        "print(results)\n"
      ]
    },
    {
      "cell_type": "markdown",
      "metadata": {
        "id": "6IwJDXc4e64u"
      },
      "source": [
        "The new triple (album *Help*) was added to the graph."
      ]
    },
    {
      "cell_type": "markdown",
      "metadata": {
        "id": "o41J9o5We64u"
      },
      "source": [
        "Wer can add some more detailes for the album *Help!* and see what was added."
      ]
    },
    {
      "cell_type": "code",
      "execution_count": 21,
      "metadata": {
        "id": "gSZwJp33e64u"
      },
      "outputs": [],
      "source": [
        "# Create and add statement: The name of the album is actually Help!\n",
        "name_property_IRI = graph.addProperty(ex + \"name\")\n",
        "name_literal = graph.addLiteral(\"Help!\")\n",
        "\n",
        "graph.addEdge(new_album_IRI, name_property_IRI, name_literal)\n",
        "\n",
        "# Create and add statement: The new album was released in 1965\n",
        "xsd = \"http://www.w3.org/2001/XMLSchema#\"\n",
        "release_property_IRI = graph.addProperty(ex + \"date\")\n",
        "release_literal = graph.addLiteral(\"1965\", xsd + 'date')\n",
        "\n",
        "graph.addEdge(new_album_IRI, release_property_IRI, release_literal)\n",
        "\n",
        "\n",
        "# Create and add statement: The Beatles is the creator of the album Help\n",
        "artist_property_IRI = graph.addProperty(ex + \"artist\")\n",
        "artist_IRI = graph.addLiteral(ex + \"The_Beatles\")\n",
        "graph.addEdge(new_album_IRI, artist_property_IRI, artist_IRI)"
      ]
    },
    {
      "cell_type": "code",
      "execution_count": 22,
      "metadata": {
        "colab": {
          "base_uri": "https://localhost:8080/"
        },
        "id": "CTWzyXGUe64u",
        "outputId": "44f8eb5f-1863-471b-9b1b-5ed74b7ac430"
      },
      "outputs": [
        {
          "output_type": "stream",
          "name": "stdout",
          "text": [
            "@prefix xsd: <http://www.w3.org/2001/XMLSchema#> .\n",
            "@prefix ex: <http://example.com/> .\n",
            "@prefix rdf: <http://www.w3.org/1999/02/22-rdf-syntax-ns#> .\n",
            "\n",
            "ex:Help ex:artist \"http://example.com/The_Beatles\" ;\n",
            "  ex:date \"1965\"^^<<http://www.w3.org/2001/XMLSchema#>date> ;\n",
            "  ex:date \"1965\"^^xsd:date ;\n",
            "  ex:name \"Help!\" ;\n",
            "  a ex:Album .\n",
            "\n",
            "\n"
          ]
        }
      ],
      "source": [
        "query = f'''@prefix ex: <{ex}>\n",
        "            CONSTRUCT {{ ?album ?p ?o }}\n",
        "            WHERE {{\n",
        "                VALUES ?album {{ ex:Help }}\n",
        "                ?album ?p ?o}} '''\n",
        "\n",
        "exec = corese.QueryProcess.create(graph)\n",
        "\n",
        "results = exec.query(query)\n",
        "\n",
        "results_ttl = corese.ResultFormat.create(results, corese.ResultFormat.TURTLE_FORMAT)\n",
        "\n",
        "print(results_ttl)"
      ]
    }
  ],
  "metadata": {
    "kernelspec": {
      "display_name": "Python 3",
      "language": "python",
      "name": "python3"
    },
    "language_info": {
      "codemirror_mode": {
        "name": "ipython",
        "version": 3
      },
      "file_extension": ".py",
      "mimetype": "text/x-python",
      "name": "python",
      "nbconvert_exporter": "python",
      "pygments_lexer": "ipython3",
      "version": "3.10.14"
    },
    "colab": {
      "provenance": [],
      "toc_visible": true,
      "include_colab_link": true
    }
  },
  "nbformat": 4,
  "nbformat_minor": 0
}